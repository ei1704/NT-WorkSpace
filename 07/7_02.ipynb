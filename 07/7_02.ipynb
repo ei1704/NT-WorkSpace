{
 "cells": [
  {
   "cell_type": "code",
   "execution_count": 7,
   "metadata": {},
   "outputs": [],
   "source": [
    "import numpy as np\n",
    "def zeros():\n",
    "  for i in range(10000):\n",
    "    _ = np.zeros((1,i))\n",
    "\n",
    "def empty():\n",
    "  for i in range(10000):\n",
    "    _ = np.empty((1,i))"
   ]
  },
  {
   "cell_type": "markdown",
   "metadata": {},
   "source": [
    "- %timeitでデコレータいらず"
   ]
  },
  {
   "cell_type": "code",
   "execution_count": 8,
   "metadata": {},
   "outputs": [
    {
     "name": "stdout",
     "output_type": "stream",
     "text": [
      "14.5 ms ± 3.66 ms per loop (mean ± std. dev. of 7 runs, 100 loops each)\n"
     ]
    }
   ],
   "source": [
    "%timeit empty()"
   ]
  },
  {
   "cell_type": "code",
   "execution_count": 9,
   "metadata": {},
   "outputs": [
    {
     "name": "stdout",
     "output_type": "stream",
     "text": [
      "41.3 ms ± 9.36 ms per loop (mean ± std. dev. of 7 runs, 10 loops each)\n"
     ]
    }
   ],
   "source": [
    "%timeit zeros()"
   ]
  },
  {
   "cell_type": "markdown",
   "metadata": {},
   "source": [
    "### その他よく使用されるメソッド\n",
    "\n",
    "- 以下のメソッドの使い方を調べよう\n",
    "\n",
    "| 例                                        | 意味・働き・結果・注意点等 |\n",
    "| ----------------------------------------- | -------------------------- |\n",
    "| np.arange(0.0, 2.4, 0.1)                  |0から2.4まで0.1ずつの感覚で数値が格納された配列を返す|\n",
    "| np.linspace(0.0 , 2.4, 24)                |  0.0から2.4までの区間を24等分した数値が格納された配列を返す|\n",
    "| np.linspace(0.0 , 2.4, 24,endpoint=False) |  endpoint=falseを指定することで2.4を含まない|\n",
    "| np.full( (2,2), 10)                       |  全ての要素が10である2×2の配列を返す|"
   ]
  },
  {
   "cell_type": "code",
   "execution_count": 15,
   "metadata": {},
   "outputs": [
    {
     "name": "stdout",
     "output_type": "stream",
     "text": [
      "[0.  0.1 0.2 0.3 0.4 0.5 0.6 0.7 0.8 0.9 1.  1.1 1.2 1.3 1.4 1.5 1.6 1.7\n",
      " 1.8 1.9 2.  2.1 2.2 2.3]\n"
     ]
    }
   ],
   "source": [
    "print(np.arange(0.0,2.4,0.1))"
   ]
  },
  {
   "cell_type": "code",
   "execution_count": 13,
   "metadata": {},
   "outputs": [
    {
     "name": "stdout",
     "output_type": "stream",
     "text": [
      "[0.         0.10434783 0.20869565 0.31304348 0.4173913  0.52173913\n",
      " 0.62608696 0.73043478 0.83478261 0.93913043 1.04347826 1.14782609\n",
      " 1.25217391 1.35652174 1.46086957 1.56521739 1.66956522 1.77391304\n",
      " 1.87826087 1.9826087  2.08695652 2.19130435 2.29565217 2.4       ]\n",
      "[0.  0.1 0.2 0.3 0.4 0.5 0.6 0.7 0.8 0.9 1.  1.1 1.2 1.3 1.4 1.5 1.6 1.7\n",
      " 1.8 1.9 2.  2.1 2.2 2.3]\n"
     ]
    }
   ],
   "source": [
    "print(np.linspace(0.0 , 2.4, 24))\n",
    "print(np.linspace(0.0 , 2.4, 24,endpoint=False))"
   ]
  },
  {
   "cell_type": "code",
   "execution_count": 14,
   "metadata": {},
   "outputs": [
    {
     "name": "stdout",
     "output_type": "stream",
     "text": [
      "[[10 10]\n",
      " [10 10]]\n"
     ]
    }
   ],
   "source": [
    "print(np.full( (2,2), 10))"
   ]
  }
 ],
 "metadata": {
  "interpreter": {
   "hash": "54a907648c75ae1dd8bd447ad4dbfd7a2198349a6125c75b71ef5af9a2b09988"
  },
  "kernelspec": {
   "display_name": "Python 3",
   "language": "python",
   "name": "python3"
  },
  "language_info": {
   "codemirror_mode": {
    "name": "ipython",
    "version": 3
   },
   "file_extension": ".py",
   "mimetype": "text/x-python",
   "name": "python",
   "nbconvert_exporter": "python",
   "pygments_lexer": "ipython3",
   "version": "3.8.8"
  }
 },
 "nbformat": 4,
 "nbformat_minor": 2
}
