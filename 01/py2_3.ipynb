{
 "cells": [
  {
   "cell_type": "code",
   "execution_count": 1,
   "metadata": {},
   "outputs": [],
   "source": []
  },
  {
   "cell_type": "markdown",
   "metadata": {},
   "source": [
    "### h3\n",
    "\n",
    "```cpp                                                                                                                                                                                                                                   \n",
    "#include<iostream>\n",
    "using namespace std;\n",
    "int main(){\n",
    "  print(\"Hello World\\n\");\n",
    "  return 0;\n",
    "}\n",
    "```"
   ]
  },
  {
   "cell_type": "code",
   "execution_count": 3,
   "metadata": {},
   "outputs": [
    {
     "name": "stdout",
     "output_type": "stream",
     "text": [
      "0文字目はPです\n",
      "1文字目はyです\n",
      "2文字目はtです\n",
      "3文字目はhです\n",
      "4文字目はoです\n",
      "5文字目はnです\n",
      "6文字目は応です\n",
      "7文字目は用です\n"
     ]
    }
   ],
   "source": [
    "words=\"Python応用\"\n",
    "for count,char in enumerate(words):\n",
    "  print(f'{count}文字目は{char}です')"
   ]
  }
 ],
 "metadata": {
  "interpreter": {
   "hash": "42d823d9a7c3c781bb248e836017e989f58100759ca53f4f005daf3b32b4da0d"
  },
  "kernelspec": {
   "display_name": "Python 3.8.8 ('base')",
   "language": "python",
   "name": "python3"
  },
  "language_info": {
   "codemirror_mode": {
    "name": "ipython",
    "version": 3
   },
   "file_extension": ".py",
   "mimetype": "text/x-python",
   "name": "python",
   "nbconvert_exporter": "python",
   "pygments_lexer": "ipython3",
   "version": "3.8.8"
  },
  "orig_nbformat": 4
 },
 "nbformat": 4,
 "nbformat_minor": 2
}
